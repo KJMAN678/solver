{
 "cells": [
  {
   "cell_type": "code",
   "execution_count": 1,
   "id": "anticipated-heating",
   "metadata": {},
   "outputs": [],
   "source": [
    "import pulp\n",
    "import cvxpy as cp\n",
    "import random\n",
    "import pandas as pd\n",
    "from decimal import Decimal\n",
    "\n",
    "import warnings\n",
    "warnings.filterwarnings('ignore')"
   ]
  },
  {
   "cell_type": "code",
   "execution_count": 2,
   "id": "social-musical",
   "metadata": {},
   "outputs": [
    {
     "data": {
      "text/html": [
       "<div>\n",
       "<style scoped>\n",
       "    .dataframe tbody tr th:only-of-type {\n",
       "        vertical-align: middle;\n",
       "    }\n",
       "\n",
       "    .dataframe tbody tr th {\n",
       "        vertical-align: top;\n",
       "    }\n",
       "\n",
       "    .dataframe thead th {\n",
       "        text-align: right;\n",
       "    }\n",
       "</style>\n",
       "<table border=\"1\" class=\"dataframe\">\n",
       "  <thead>\n",
       "    <tr style=\"text-align: right;\">\n",
       "      <th></th>\n",
       "      <th>店a</th>\n",
       "      <th>店b</th>\n",
       "      <th>店c</th>\n",
       "      <th>供給量</th>\n",
       "    </tr>\n",
       "  </thead>\n",
       "  <tbody>\n",
       "    <tr>\n",
       "      <th>工場x</th>\n",
       "      <td>10</td>\n",
       "      <td>6</td>\n",
       "      <td>16</td>\n",
       "      <td>8.0</td>\n",
       "    </tr>\n",
       "    <tr>\n",
       "      <th>工場y</th>\n",
       "      <td>8</td>\n",
       "      <td>8</td>\n",
       "      <td>4</td>\n",
       "      <td>16.0</td>\n",
       "    </tr>\n",
       "    <tr>\n",
       "      <th>需要量</th>\n",
       "      <td>12</td>\n",
       "      <td>4</td>\n",
       "      <td>8</td>\n",
       "      <td>NaN</td>\n",
       "    </tr>\n",
       "  </tbody>\n",
       "</table>\n",
       "</div>"
      ],
      "text/plain": [
       "     店a  店b  店c   供給量\n",
       "工場x  10   6  16   8.0\n",
       "工場y   8   8   4  16.0\n",
       "需要量  12   4   8   NaN"
      ]
     },
     "execution_count": 2,
     "metadata": {},
     "output_type": "execute_result"
    }
   ],
   "source": [
    "df = pd.DataFrame(\n",
    "    [\n",
    "        [10, 6, 16, 8],\n",
    "        [8, 8, 4, 16],\n",
    "        [12, 4, 8, ]\n",
    "    ],\n",
    "    columns=[\"店a\", \"店b\", \"店c\", \"供給量\"],\n",
    "    index=[\"工場x\", \"工場y\", \"需要量\"]\n",
    ")\n",
    "\n",
    "df"
   ]
  },
  {
   "cell_type": "markdown",
   "id": "described-cleaners",
   "metadata": {},
   "source": [
    "## pulp"
   ]
  },
  {
   "cell_type": "markdown",
   "id": "virgin-bahrain",
   "metadata": {},
   "source": [
    "### 1.最適化問題の名称の設定と、最小化か最大化の設定"
   ]
  },
  {
   "cell_type": "code",
   "execution_count": 3,
   "id": "plain-symbol",
   "metadata": {},
   "outputs": [],
   "source": [
    "prob = pulp.LpProblem('sample', # 名称\n",
    "                      pulp.LpMinimize) # 最小化。なおデフォルトは最小化"
   ]
  },
  {
   "cell_type": "markdown",
   "id": "mechanical-boundary",
   "metadata": {},
   "source": [
    "### 2.変数の設定"
   ]
  },
  {
   "cell_type": "code",
   "execution_count": 4,
   "id": "interstate-conservation",
   "metadata": {},
   "outputs": [],
   "source": [
    "item_list = [\"a\", \"b\", \"c\"]"
   ]
  },
  {
   "cell_type": "code",
   "execution_count": 5,
   "id": "expensive-viewer",
   "metadata": {},
   "outputs": [],
   "source": [
    "# 工場Xの供給量\n",
    "fact_x = [pulp.LpVariable(f'fact_x_{i}', \n",
    "                    lowBound = 0, # 下限値。デフォルト値はNone\n",
    "                    upBound=None, # 上限値。デフォルト値はNone\n",
    "                    cat=pulp.LpContinuous\n",
    "                         # 変数の種類。デフォルトは\"Continuous\"(連続値)\n",
    "                         # 他には pulp.LpInteger 整数、pulp.LpBinary バイナリ値\n",
    "                    ) for i in item_list]\n",
    "\n",
    "# 工場yの供給量\n",
    "fact_y = [pulp.LpVariable(f'fact_y_{i}', \n",
    "                    lowBound = 0, # 下限値。デフォルト値はNone\n",
    "                    upBound=None, # 上限値。デフォルト値はNone\n",
    "                    cat=pulp.LpContinuous\n",
    "                         # 変数の種類。デフォルトは\"Continuous\"(連続値)\n",
    "                         # 他には pulp.LpInteger 整数、pulp.LpBinary バイナリ値\n",
    "                    ) for i in item_list]"
   ]
  },
  {
   "cell_type": "markdown",
   "id": "ancient-module",
   "metadata": {},
   "source": [
    "### 3.目的変数の設定"
   ]
  },
  {
   "cell_type": "code",
   "execution_count": 6,
   "id": "working-northwest",
   "metadata": {},
   "outputs": [],
   "source": [
    "prob += pulp.lpSum(fact_x * df.iloc[0, :3]) + pulp.lpSum(fact_y * df.iloc[1, :3])"
   ]
  },
  {
   "cell_type": "markdown",
   "id": "british-overhead",
   "metadata": {},
   "source": [
    "### 4.制約条件の設定"
   ]
  },
  {
   "cell_type": "markdown",
   "id": "humanitarian-blade",
   "metadata": {},
   "source": [
    "#### 需要量"
   ]
  },
  {
   "cell_type": "code",
   "execution_count": 7,
   "id": "restricted-flower",
   "metadata": {},
   "outputs": [],
   "source": [
    "for i in range(3):\n",
    "    prob += fact_x[i] + fact_y[i] >= df.iloc[2, i]"
   ]
  },
  {
   "cell_type": "markdown",
   "id": "occasional-marshall",
   "metadata": {},
   "source": [
    "#### 供給量"
   ]
  },
  {
   "cell_type": "code",
   "execution_count": 8,
   "id": "collective-negative",
   "metadata": {},
   "outputs": [],
   "source": [
    "prob += pulp.lpSum(fact_x) <= df[\"供給量\"][0]\n",
    "prob += pulp.lpSum(fact_y) <= df[\"供給量\"][1]"
   ]
  },
  {
   "cell_type": "markdown",
   "id": "thrown-mexican",
   "metadata": {},
   "source": [
    "### 5.実行"
   ]
  },
  {
   "cell_type": "code",
   "execution_count": 9,
   "id": "registered-samba",
   "metadata": {},
   "outputs": [
    {
     "name": "stdout",
     "output_type": "stream",
     "text": [
      "Status Optimal\n"
     ]
    }
   ],
   "source": [
    "status = prob.solve()\n",
    "print(\"Status\", pulp.LpStatus[status])"
   ]
  },
  {
   "cell_type": "code",
   "execution_count": 10,
   "id": "disabled-twelve",
   "metadata": {},
   "outputs": [
    {
     "data": {
      "text/html": [
       "<div>\n",
       "<style scoped>\n",
       "    .dataframe tbody tr th:only-of-type {\n",
       "        vertical-align: middle;\n",
       "    }\n",
       "\n",
       "    .dataframe tbody tr th {\n",
       "        vertical-align: top;\n",
       "    }\n",
       "\n",
       "    .dataframe thead th {\n",
       "        text-align: right;\n",
       "    }\n",
       "</style>\n",
       "<table border=\"1\" class=\"dataframe\">\n",
       "  <thead>\n",
       "    <tr style=\"text-align: right;\">\n",
       "      <th></th>\n",
       "      <th>店a</th>\n",
       "      <th>店b</th>\n",
       "      <th>店c</th>\n",
       "    </tr>\n",
       "  </thead>\n",
       "  <tbody>\n",
       "    <tr>\n",
       "      <th>工場x</th>\n",
       "      <td>4.0</td>\n",
       "      <td>4.0</td>\n",
       "      <td>0.0</td>\n",
       "    </tr>\n",
       "    <tr>\n",
       "      <th>工場y</th>\n",
       "      <td>8.0</td>\n",
       "      <td>0.0</td>\n",
       "      <td>8.0</td>\n",
       "    </tr>\n",
       "  </tbody>\n",
       "</table>\n",
       "</div>"
      ],
      "text/plain": [
       "      店a   店b   店c\n",
       "工場x  4.0  4.0  0.0\n",
       "工場y  8.0  0.0  8.0"
      ]
     },
     "execution_count": 10,
     "metadata": {},
     "output_type": "execute_result"
    }
   ],
   "source": [
    "result = pd.DataFrame(\n",
    "    [\n",
    "        [fact_x[i].value() for i in range(3)],\n",
    "        [fact_y[i].value() for i in range(3)],\n",
    "    ],\n",
    "    columns=[\"店a\", \"店b\", \"店c\"],\n",
    "    index=[\"工場x\", \"工場y\"]\n",
    ")\n",
    "\n",
    "result"
   ]
  },
  {
   "cell_type": "code",
   "execution_count": 11,
   "id": "daily-ribbon",
   "metadata": {},
   "outputs": [
    {
     "data": {
      "text/plain": [
       "160.0"
      ]
     },
     "execution_count": 11,
     "metadata": {},
     "output_type": "execute_result"
    }
   ],
   "source": [
    "prob.objective.value()"
   ]
  },
  {
   "cell_type": "markdown",
   "id": "fifth-relay",
   "metadata": {},
   "source": [
    "## cvxpy"
   ]
  },
  {
   "cell_type": "markdown",
   "id": "fiscal-doubt",
   "metadata": {},
   "source": [
    "### 1.変数の設定"
   ]
  },
  {
   "cell_type": "code",
   "execution_count": 13,
   "id": "friendly-namibia",
   "metadata": {},
   "outputs": [],
   "source": [
    "fact_x = cp.Variable(\n",
    "                    len(item_list), # 要素数。2次元の場合は(x, y)と設定する\n",
    "                    integer=False, # 整数の場合はTrueとする\n",
    "                    boolean=False, # Binary値の場合はTrueとする\n",
    "                    pos=True # 正の数\n",
    "                    )\n",
    "\n",
    "fact_y = cp.Variable(\n",
    "                    len(item_list), # 要素数。2次元の場合は(x, y)と設定する\n",
    "                    integer=False, # 整数の場合はTrueとする\n",
    "                     boolean=False, # Binary値の場合はTrueとする\n",
    "                    pos=True # 正の数\n",
    "                    )"
   ]
  },
  {
   "cell_type": "markdown",
   "id": "neutral-messenger",
   "metadata": {},
   "source": [
    "### 2.目的変数の設定と最小化か最大化の設定"
   ]
  },
  {
   "cell_type": "code",
   "execution_count": 14,
   "id": "young-warrant",
   "metadata": {},
   "outputs": [],
   "source": [
    "exp = cp.sum(fact_x * df.iloc[:1, :3].squeeze() + fact_y * df.iloc[1:2, :3].squeeze())"
   ]
  },
  {
   "cell_type": "code",
   "execution_count": 15,
   "id": "coupled-official",
   "metadata": {},
   "outputs": [],
   "source": [
    "obj = cp.Minimize(exp)"
   ]
  },
  {
   "cell_type": "markdown",
   "id": "chemical-waste",
   "metadata": {},
   "source": [
    "### 3.制約条件の設定"
   ]
  },
  {
   "cell_type": "markdown",
   "id": "dental-karma",
   "metadata": {},
   "source": [
    "#### 需要量"
   ]
  },
  {
   "cell_type": "code",
   "execution_count": 16,
   "id": "threatened-basketball",
   "metadata": {},
   "outputs": [],
   "source": [
    "const = []"
   ]
  },
  {
   "cell_type": "code",
   "execution_count": 17,
   "id": "relevant-strand",
   "metadata": {},
   "outputs": [],
   "source": [
    "for i in range(3):\n",
    "    const += [fact_x[i] + fact_y[i] >= df.iloc[2, i]]"
   ]
  },
  {
   "cell_type": "markdown",
   "id": "dominican-reviewer",
   "metadata": {},
   "source": [
    "#### 供給量"
   ]
  },
  {
   "cell_type": "code",
   "execution_count": 18,
   "id": "large-ideal",
   "metadata": {},
   "outputs": [],
   "source": [
    "const += [cp.sum(fact_x) <= df[\"供給量\"][0]]\n",
    "const += [cp.sum(fact_y) <= df[\"供給量\"][1]]"
   ]
  },
  {
   "cell_type": "code",
   "execution_count": 19,
   "id": "documentary-couple",
   "metadata": {},
   "outputs": [
    {
     "name": "stdout",
     "output_type": "stream",
     "text": [
      "===============================================================================\n",
      "                                     CVXPY                                     \n",
      "                                    v1.1.11                                    \n",
      "===============================================================================\n",
      "(CVXPY) Mar 29 12:11:16 AM: Your problem has 6 variables, 5 constraints, and 0 parameters.\n",
      "(CVXPY) Mar 29 12:11:16 AM: It is compliant with the following grammars: DCP, DQCP\n",
      "(CVXPY) Mar 29 12:11:16 AM: (If you need to solve this problem multiple times, but with different data, consider using parameters.)\n",
      "(CVXPY) Mar 29 12:11:16 AM: CVXPY will first compile your problem; then, it will invoke a numerical solver to obtain a solution.\n",
      "-------------------------------------------------------------------------------\n",
      "                                  Compilation                                  \n",
      "-------------------------------------------------------------------------------\n",
      "(CVXPY) Mar 29 12:11:16 AM: Compiling problem (target solver=ECOS).\n",
      "(CVXPY) Mar 29 12:11:16 AM: Reduction chain: Dcp2Cone -> CvxAttr2Constr -> ConeMatrixStuffing -> ECOS\n",
      "(CVXPY) Mar 29 12:11:16 AM: Applying reduction Dcp2Cone\n",
      "(CVXPY) Mar 29 12:11:16 AM: Applying reduction CvxAttr2Constr\n",
      "(CVXPY) Mar 29 12:11:16 AM: Applying reduction ConeMatrixStuffing\n",
      "(CVXPY) Mar 29 12:11:16 AM: Applying reduction ECOS\n",
      "(CVXPY) Mar 29 12:11:16 AM: Finished problem compilation (took 2.200e-02 seconds).\n",
      "(CVXPY) Mar 29 12:11:16 AM: (Subsequent compilations of this problem, using the same arguments, should take less time.)\n",
      "-------------------------------------------------------------------------------\n",
      "                                Numerical solver                               \n",
      "-------------------------------------------------------------------------------\n",
      "(CVXPY) Mar 29 12:11:16 AM: Invoking solver ECOS to obtain a solution.\n",
      "\n",
      "ECOS 2.0.7 - (C) embotech GmbH, Zurich Switzerland, 2012-15. Web: www.embotech.com/ECOS\n",
      "\n",
      "It     pcost       dcost      gap   pres   dres    k/t    mu     step   sigma     IR    |   BT\n",
      " 0  +1.667e+02  +1.667e+02  +4e+02  2e-01  3e-01  1e+00  4e+01    ---    ---    1  1  - |  -  - \n",
      " 1  +1.613e+02  +1.624e+02  +5e+01  2e-02  3e-02  1e+00  4e+00  0.9199  4e-02   0  0  0 |  0  0\n",
      " 2  +1.599e+02  +1.600e+02  +2e+00  7e-04  1e-03  8e-02  2e-01  0.9736  1e-02   0  0  0 |  0  0\n",
      " 3  +1.600e+02  +1.600e+02  +2e-02  8e-06  1e-05  9e-04  2e-03  0.9890  1e-04   0  0  0 |  0  0\n",
      " 4  +1.600e+02  +1.600e+02  +2e-04  9e-08  1e-07  1e-05  2e-05  0.9890  1e-04   1  0  0 |  0  0\n",
      " 5  +1.600e+02  +1.600e+02  +3e-06  1e-09  2e-09  1e-07  2e-07  0.9890  1e-04   1  0  0 |  0  0\n",
      " 6  +1.600e+02  +1.600e+02  +3e-08  1e-11  2e-11  1e-09  3e-09  0.9890  1e-04   3  0  0 |  0  0\n",
      "\n",
      "OPTIMAL (within feastol=1.8e-11, reltol=1.9e-10, abstol=3.0e-08).\n",
      "Runtime: 0.001486 seconds.\n",
      "\n",
      "-------------------------------------------------------------------------------\n",
      "                                    Summary                                    \n",
      "-------------------------------------------------------------------------------\n",
      "(CVXPY) Mar 29 12:11:16 AM: Problem status: optimal\n",
      "(CVXPY) Mar 29 12:11:16 AM: Optimal value: 1.600e+02\n",
      "(CVXPY) Mar 29 12:11:16 AM: Compilation took 2.200e-02 seconds\n",
      "(CVXPY) Mar 29 12:11:16 AM: Solver (including time spent in interface) took 2.001e-03 seconds\n"
     ]
    },
    {
     "data": {
      "text/plain": [
       "159.9999999983278"
      ]
     },
     "execution_count": 19,
     "metadata": {},
     "output_type": "execute_result"
    }
   ],
   "source": [
    "prob = cp.Problem(obj, const)\n",
    "status = prob.solve(verbose=True)\n",
    "status"
   ]
  },
  {
   "cell_type": "code",
   "execution_count": 22,
   "id": "split-radiation",
   "metadata": {},
   "outputs": [
    {
     "data": {
      "text/html": [
       "<div>\n",
       "<style scoped>\n",
       "    .dataframe tbody tr th:only-of-type {\n",
       "        vertical-align: middle;\n",
       "    }\n",
       "\n",
       "    .dataframe tbody tr th {\n",
       "        vertical-align: top;\n",
       "    }\n",
       "\n",
       "    .dataframe thead th {\n",
       "        text-align: right;\n",
       "    }\n",
       "</style>\n",
       "<table border=\"1\" class=\"dataframe\">\n",
       "  <thead>\n",
       "    <tr style=\"text-align: right;\">\n",
       "      <th></th>\n",
       "      <th>店a</th>\n",
       "      <th>店b</th>\n",
       "      <th>店c</th>\n",
       "    </tr>\n",
       "  </thead>\n",
       "  <tbody>\n",
       "    <tr>\n",
       "      <th>工場x</th>\n",
       "      <td>3.999999999942269</td>\n",
       "      <td>3.999999999887292</td>\n",
       "      <td>0.00000000000000</td>\n",
       "    </tr>\n",
       "    <tr>\n",
       "      <th>工場y</th>\n",
       "      <td>8.000000000041020</td>\n",
       "      <td>0.000000000018669</td>\n",
       "      <td>8.00000000000615</td>\n",
       "    </tr>\n",
       "  </tbody>\n",
       "</table>\n",
       "</div>"
      ],
      "text/plain": [
       "                    店a                 店b                店c\n",
       "工場x  3.999999999942269  3.999999999887292  0.00000000000000\n",
       "工場y  8.000000000041020  0.000000000018669  8.00000000000615"
      ]
     },
     "execution_count": 22,
     "metadata": {},
     "output_type": "execute_result"
    }
   ],
   "source": [
    "pd.options.display.precision = 15\n",
    "\n",
    "result = pd.DataFrame(\n",
    "    [\n",
    "        [fact_x[i].value for i in range(3)],\n",
    "        [fact_y[i].value for i in range(3)],\n",
    "    ],\n",
    "    columns=[\"店a\", \"店b\", \"店c\"],\n",
    "    index=[\"工場x\", \"工場y\"]\n",
    ")\n",
    "\n",
    "result"
   ]
  },
  {
   "cell_type": "code",
   "execution_count": 23,
   "id": "assigned-sydney",
   "metadata": {},
   "outputs": [
    {
     "data": {
      "text/plain": [
       "159.9999999983278"
      ]
     },
     "execution_count": 23,
     "metadata": {},
     "output_type": "execute_result"
    }
   ],
   "source": [
    "prob.value"
   ]
  },
  {
   "cell_type": "code",
   "execution_count": null,
   "id": "sound-creator",
   "metadata": {},
   "outputs": [],
   "source": []
  }
 ],
 "metadata": {
  "kernelspec": {
   "display_name": "Python 3",
   "language": "python",
   "name": "python3"
  },
  "language_info": {
   "codemirror_mode": {
    "name": "ipython",
    "version": 3
   },
   "file_extension": ".py",
   "mimetype": "text/x-python",
   "name": "python",
   "nbconvert_exporter": "python",
   "pygments_lexer": "ipython3",
   "version": "3.8.5"
  }
 },
 "nbformat": 4,
 "nbformat_minor": 5
}
